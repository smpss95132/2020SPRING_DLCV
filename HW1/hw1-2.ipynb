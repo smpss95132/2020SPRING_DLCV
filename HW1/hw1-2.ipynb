{
 "cells": [
  {
   "cell_type": "code",
   "execution_count": 1,
   "metadata": {},
   "outputs": [],
   "source": [
    "import cv2\n",
    "import numpy as np\n",
    "from  matplotlib import pyplot as plt\n",
    "import os\n",
    "import re\n",
    "from numpy import linalg as LA\n",
    "from collections import defaultdict"
   ]
  },
  {
   "cell_type": "code",
   "execution_count": 2,
   "metadata": {},
   "outputs": [],
   "source": [
    "# construct dataset "
   ]
  },
  {
   "cell_type": "code",
   "execution_count": 3,
   "metadata": {},
   "outputs": [],
   "source": [
    "data_path = 'p2_data'"
   ]
  },
  {
   "cell_type": "code",
   "execution_count": 4,
   "metadata": {},
   "outputs": [],
   "source": [
    "train_set = {}\n",
    "test_set = {}\n",
    "\n",
    "for i in range(1, 41):\n",
    "    train_set[i] = {}\n",
    "    test_set[i] = {}"
   ]
  },
  {
   "cell_type": "code",
   "execution_count": 5,
   "metadata": {},
   "outputs": [],
   "source": [
    "for file in os.listdir(data_path):\n",
    "    person_index = int(re.split('[_.]', file)[0])\n",
    "    sample_index = int(re.split('[_.]', file)[1])\n",
    "    fullpath = os.path.join(data_path, file)\n",
    "\n",
    "    if os.path.isfile(fullpath):\n",
    "        img = cv2.imread(fullpath, cv2.IMREAD_GRAYSCALE)\n",
    "        if sample_index==10:\n",
    "            test_set[person_index][sample_index] = img\n",
    "        else:\n",
    "            train_set[person_index][sample_index] = img\n",
    "            "
   ]
  },
  {
   "cell_type": "code",
   "execution_count": 6,
   "metadata": {},
   "outputs": [],
   "source": [
    "# PCA\n",
    "def PCA(train_set):\n",
    "    # basic info\n",
    "    num_people = len(train_set)\n",
    "    num_sample = len(train_set[1])\n",
    "    H, W = train_set[1][1].shape[0], train_set[1][1].shape[1]\n",
    "    \n",
    "    # stacking imgs\n",
    "    samples = []\n",
    "    for i in range(1, num_people+1):\n",
    "        for j in range(1, num_sample+1):\n",
    "            samples.append(train_set[i][j])\n",
    "    stacked_samples = np.stack(samples, axis=0)    # 360 56 46\n",
    "    \n",
    "    # calculate corvariance matrix\n",
    "    avg_samples = np.expand_dims(np.sum(stacked_samples, axis=0) / (num_people*num_sample), axis=0)  # 1 56 46\n",
    "    nor_samples = (stacked_samples - avg_samples).reshape(num_people*num_sample, H*W)                # 360 56*46\n",
    "    cor_mtx = np.matmul(nor_samples.T, nor_samples) / (num_people*num_sample)\n",
    "    \n",
    "    # calculate eigen vector and eigen value\n",
    "    w, v = LA.eig(cor_mtx)\n",
    "    eigen_sort = list(np.argsort(w))[::-1]\n",
    "    sorted_w = w[eigen_sort]\n",
    "    sorted_v = v[:, eigen_sort]\n",
    "    \n",
    "    return sorted_w, sorted_v, avg_samples"
   ]
  },
  {
   "cell_type": "code",
   "execution_count": 7,
   "metadata": {},
   "outputs": [],
   "source": [
    "def eigenface(face, mean, eigen_vec, n):\n",
    "    # basic info & preprocess\n",
    "    H, W = face.shape[0], face.shape[1]\n",
    "    face, mean = face.reshape(-1,1), mean.reshape(-1,1)\n",
    "    \n",
    "    used_vec = eigen_vec[:,:n]              # shape=(d, n)\n",
    "    A = np.matmul(used_vec.T, face-mean)\n",
    "    recon_face = np.matmul(used_vec, A).reshape(H, W)\n",
    "    \n",
    "    return recon_face"
   ]
  },
  {
   "cell_type": "code",
   "execution_count": 8,
   "metadata": {},
   "outputs": [],
   "source": [
    "def MSE(recon_img, target):\n",
    "    return np.sum((recon_img-target) * (recon_img-target)) / (target.shape[0] * target.shape[1])"
   ]
  },
  {
   "cell_type": "code",
   "execution_count": 9,
   "metadata": {},
   "outputs": [],
   "source": [
    "def projection(faces, mean, eigen_vec, n):\n",
    "    # basic info\n",
    "    H, W = faces[0].shape[0], faces[0].shape[1]\n",
    "    \n",
    "    stacked_face = np.empty((len(faces), H*W))   # shape=(N, d)\n",
    "    for i in range(len(faces)):\n",
    "        stacked_face[i] = faces[i].reshape(-1)\n",
    "    \n",
    "    # projection\n",
    "    mean = mean.reshape(1,-1)         # shape=(1, d)\n",
    "    used_vec = eigen_vec[:,:n]        # shape=(d, n)\n",
    "    A = np.matmul(stacked_face-mean, used_vec) # shape=(N, n)\n",
    "    \n",
    "    return A    "
   ]
  },
  {
   "cell_type": "code",
   "execution_count": 10,
   "metadata": {},
   "outputs": [],
   "source": [
    "def acc(pre, tar):\n",
    "    return np.sum(pre==tar)/len(pre)"
   ]
  },
  {
   "cell_type": "code",
   "execution_count": 11,
   "metadata": {},
   "outputs": [],
   "source": [
    "eigen_value, eigen_vector, mean = PCA(train_set)"
   ]
  },
  {
   "cell_type": "code",
   "execution_count": 12,
   "metadata": {},
   "outputs": [
    {
     "name": "stdout",
     "output_type": "stream",
     "text": [
      "[0.00606884 0.00622373 0.00559664 ... 0.015444   0.01280517 0.01320866]\n"
     ]
    },
    {
     "name": "stderr",
     "output_type": "stream",
     "text": [
      "/home/zxcvbn7222/anaconda3/lib/python3.6/site-packages/ipykernel_launcher.py:1: ComplexWarning: Casting complex values to real discards the imaginary part\n",
      "  \"\"\"Entry point for launching an IPython kernel.\n"
     ]
    }
   ],
   "source": [
    "print(eigen_vector[:, 0].astype(np.float))"
   ]
  },
  {
   "cell_type": "code",
   "execution_count": 13,
   "metadata": {
    "scrolled": true
   },
   "outputs": [
    {
     "name": "stdout",
     "output_type": "stream",
     "text": [
      "Mean:\n"
     ]
    },
    {
     "data": {
      "image/png": "[encoded data removed]",
      "text/plain": [
       "<Figure size 432x288 with 1 Axes>"
      ]
     },
     "metadata": {
      "needs_background": "light"
     },
     "output_type": "display_data"
    },
    {
     "name": "stdout",
     "output_type": "stream",
     "text": [
      "Eigen face: 0\n"
     ]
    },
    {
     "name": "stderr",
     "output_type": "stream",
     "text": [
      "/home/zxcvbn7222/anaconda3/lib/python3.6/site-packages/ipykernel_launcher.py:12: ComplexWarning: Casting complex values to real discards the imaginary part\n",
      "  if sys.path[0] == '':\n"
     ]
    },
    {
     "data": {
      "image/png": "[encoded data removed]",
      "text/plain": [
       "<Figure size 432x288 with 1 Axes>"
      ]
     },
     "metadata": {
      "needs_background": "light"
     },
     "output_type": "display_data"
    },
    {
     "name": "stdout",
     "output_type": "stream",
     "text": [
      "Eigen face: 1\n"
     ]
    },
    {
     "data": {
      "image/png": "[encoded data removed]",
      "text/plain": [
       "<Figure size 432x288 with 1 Axes>"
      ]
     },
     "metadata": {
      "needs_background": "light"
     },
     "output_type": "display_data"
    },
    {
     "name": "stdout",
     "output_type": "stream",
     "text": [
      "Eigen face: 2\n"
     ]
    },
    {
     "data": {
      "image/png": "[encoded data removed]",
      "text/plain": [
       "<Figure size 432x288 with 1 Axes>"
      ]
     },
     "metadata": {
      "needs_background": "light"
     },
     "output_type": "display_data"
    },
    {
     "name": "stdout",
     "output_type": "stream",
     "text": [
      "Eigen face: 3\n"
     ]
    },
    {
     "data": {
      "image/png": "[encoded data removed]",
      "text/plain": [
       "<Figure size 432x288 with 1 Axes>"
      ]
     },
     "metadata": {
      "needs_background": "light"
     },
     "output_type": "display_data"
    }
   ],
   "source": [
    "# 2-1\n",
    "H, W = 56, 46\n",
    "\n",
    "# mean\n",
    "print('Mean:')\n",
    "plt.imshow(mean.reshape(H, W), cmap='gray')\n",
    "plt.show()\n",
    "\n",
    "# eigen face\n",
    "for i in range(4):\n",
    "    print(f\"Eigen face: {i}\")\n",
    "    plt.imshow(eigen_vector[:, i].reshape(H, W).astype(np.float), cmap='gray')\n",
    "    plt.show()"
   ]
  },
  {
   "cell_type": "code",
   "execution_count": 14,
   "metadata": {
    "scrolled": false
   },
   "outputs": [
    {
     "name": "stdout",
     "output_type": "stream",
     "text": [
      "(1, 56, 46)\n",
      "(56, 46)\n",
      "(2576, 2576)\n"
     ]
    }
   ],
   "source": [
    "print(mean.shape)\n",
    "print(train_set[2][1].shape)\n",
    "print(eigen_vector.shape)"
   ]
  },
  {
   "cell_type": "code",
   "execution_count": 15,
   "metadata": {
    "scrolled": true
   },
   "outputs": [
    {
     "name": "stdout",
     "output_type": "stream",
     "text": [
      "n=3:  99.6207298136646\n"
     ]
    },
    {
     "name": "stderr",
     "output_type": "stream",
     "text": [
      "/home/zxcvbn7222/anaconda3/lib/python3.6/site-packages/ipykernel_launcher.py:4: ComplexWarning: Casting complex values to real discards the imaginary part\n",
      "  after removing the cwd from sys.path.\n"
     ]
    },
    {
     "data": {
      "image/png": "[encoded data removed]",
      "text/plain": [
       "<Figure size 432x288 with 1 Axes>"
      ]
     },
     "metadata": {
      "needs_background": "light"
     },
     "output_type": "display_data"
    },
    {
     "name": "stdout",
     "output_type": "stream",
     "text": [
      "n=50:  100.71855590062111\n"
     ]
    },
    {
     "data": {
      "image/png": "[encoded data removed]",
      "text/plain": [
       "<Figure size 432x288 with 1 Axes>"
      ]
     },
     "metadata": {
      "needs_background": "light"
     },
     "output_type": "display_data"
    },
    {
     "name": "stdout",
     "output_type": "stream",
     "text": [
      "n=170:  97.38975155279503\n"
     ]
    },
    {
     "data": {
      "image/png": "[encoded data removed]",
      "text/plain": [
       "<Figure size 432x288 with 1 Axes>"
      ]
     },
     "metadata": {
      "needs_background": "light"
     },
     "output_type": "display_data"
    },
    {
     "name": "stdout",
     "output_type": "stream",
     "text": [
      "n=240:  98.84006211180125\n"
     ]
    },
    {
     "data": {
      "image/png": "[encoded data removed]",
      "text/plain": [
       "<Figure size 432x288 with 1 Axes>"
      ]
     },
     "metadata": {
      "needs_background": "light"
     },
     "output_type": "display_data"
    },
    {
     "name": "stdout",
     "output_type": "stream",
     "text": [
      "n=345:  99.02950310559007\n"
     ]
    },
    {
     "data": {
      "image/png": "[encoded data removed]",
      "text/plain": [
       "<Figure size 432x288 with 1 Axes>"
      ]
     },
     "metadata": {
      "needs_background": "light"
     },
     "output_type": "display_data"
    }
   ],
   "source": [
    "# 2-2 & 2-3\n",
    "test_list = [3, 50, 170, 240, 345]\n",
    "for n in test_list:\n",
    "    result = eigenface(train_set[2][1], mean, eigen_vector, n).astype(np.float)\n",
    "    mse = MSE(result, train_set[2][1])\n",
    "    print(f\"n={n}: \",mse)\n",
    "    plt.imshow(result, cmap='gray')\n",
    "    plt.show()"
   ]
  },
  {
   "cell_type": "code",
   "execution_count": 16,
   "metadata": {},
   "outputs": [],
   "source": [
    "def k_nearest(k, train, val, train_labels, val_labels):\n",
    "    prediction = np.empty((val.shape[0]))\n",
    "    \n",
    "    for i in range(val.shape[0]):\n",
    "        distance = np.sum(np.square(val[i].reshape(1,-1) - train), axis=1)   # num_train_sample * 1\n",
    "        first_k_labels = train_labels[np.argsort(distance, axis=0)[:k]].astype(np.int)   \n",
    "        prediction[i] = np.argmax(np.bincount(first_k_labels))\n",
    "    \n",
    "    return acc(prediction, val_labels) "
   ]
  },
  {
   "cell_type": "code",
   "execution_count": 17,
   "metadata": {
    "scrolled": true
   },
   "outputs": [
    {
     "name": "stdout",
     "output_type": "stream",
     "text": [
      "(1, 3) 0.65\n",
      "(1, 50) 0.9611111111111111\n",
      "(1, 170) 0.9555555555555556\n",
      "(3, 3) 0.6111111111111112\n",
      "(3, 50) 0.9\n",
      "(3, 170) 0.8888888888888888\n",
      "(5, 3) 0.5611111111111111\n",
      "(5, 50) 0.8472222222222222\n",
      "(5, 170) 0.8222222222222223\n",
      "(1, 50)\n"
     ]
    }
   ],
   "source": [
    "# 2-4\n",
    "k_list = [1,3,5]\n",
    "n_list = [3, 50, 170]\n",
    "valid_list = [0,1,2]\n",
    "\n",
    "acc_record = defaultdict(list)\n",
    "for valid_index in valid_list:\n",
    "    \n",
    "    # construct training set and vlidation set of cross-validation   \n",
    "    train_faces = []\n",
    "    val_faces = []\n",
    "    train_labels = np.empty((240))\n",
    "    val_labels = np.empty((120))\n",
    "    \n",
    "    valid_sample = list(range(1+3*valid_index, 4+3*valid_index))\n",
    "    \n",
    "    train_counter = 0\n",
    "    val_counter = 0\n",
    "    for sample in range(1, 10):\n",
    "        if sample in valid_sample:\n",
    "            for j in range(1, len(train_set)+1):\n",
    "                val_faces.append(train_set[j][sample])\n",
    "                val_labels[val_counter] = j\n",
    "                val_counter+=1\n",
    "        else:\n",
    "            for j in range(1, len(train_set)+1):\n",
    "                train_faces.append(train_set[j][sample])\n",
    "                train_labels[train_counter] = j\n",
    "                train_counter+=1\n",
    "    #print(val_labels)\n",
    "    \n",
    "    # k-nearest\n",
    "    for k in k_list:\n",
    "        for n in n_list:\n",
    "            train = projection(train_faces, mean, eigen_vector, n)\n",
    "            val = projection(val_faces, mean, eigen_vector, n)\n",
    "\n",
    "            acc_record[(k, n)].append(k_nearest(k, train, val, train_labels, val_labels))\n",
    "    \n",
    "temp_max = 0\n",
    "best_setting = None\n",
    "\n",
    "for key in acc_record.keys():\n",
    "    print(key, sum(acc_record[key])/3)\n",
    "    if sum(acc_record[key])>temp_max:\n",
    "        temp_max = sum(acc_record[key])\n",
    "        best_setting = key\n",
    "print(best_setting)"
   ]
  },
  {
   "cell_type": "code",
   "execution_count": 18,
   "metadata": {},
   "outputs": [
    {
     "name": "stdout",
     "output_type": "stream",
     "text": [
      "0.925\n"
     ]
    }
   ],
   "source": [
    "# 2-5\n",
    "train_faces = []\n",
    "test_faces = []\n",
    "train_labels = np.empty((360))\n",
    "test_labels = np.empty((40))\n",
    "    \n",
    "train_counter = 0\n",
    "for sample in range(1, 10):\n",
    "    for j in range(1, len(train_set)+1):\n",
    "        train_faces.append(train_set[j][sample])\n",
    "        train_labels[train_counter] = j\n",
    "        train_counter+=1\n",
    "\n",
    "test_counter = 0\n",
    "for j in range(1, len(test_set)+1):\n",
    "    test_faces.append(test_set[j][10])\n",
    "    test_labels[test_counter] = j\n",
    "    test_counter+=1\n",
    "\n",
    "train = projection(train_faces, mean, eigen_vector, 50)\n",
    "test = projection(test_faces, mean, eigen_vector, 50)\n",
    "print(k_nearest(1, train, test, train_labels, test_labels))"
   ]
  }
 ],
 "metadata": {
  "kernelspec": {
   "display_name": "Python 3",
   "language": "python",
   "name": "python3"
  },
  "language_info": {
   "codemirror_mode": {
    "name": "ipython",
    "version": 3
   },
   "file_extension": ".py",
   "mimetype": "text/x-python",
   "name": "python",
   "nbconvert_exporter": "python",
   "pygments_lexer": "ipython3",
   "version": "3.6.10"
  }
 },
 "nbformat": 4,
 "nbformat_minor": 4
}
